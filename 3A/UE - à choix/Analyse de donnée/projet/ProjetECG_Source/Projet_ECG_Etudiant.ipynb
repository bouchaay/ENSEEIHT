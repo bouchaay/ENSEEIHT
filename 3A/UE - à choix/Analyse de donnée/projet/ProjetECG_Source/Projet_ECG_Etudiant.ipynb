{
 "cells": [
  {
   "cell_type": "markdown",
   "id": "43e596ea",
   "metadata": {
    "id": "43e596ea"
   },
   "source": [
    "# Projet CSAA - Classification du rythme cardiaque issu d'ECG\n",
    "\n",
    "\n",
    "Ce jeu de données est composé d'une collections de signaux de battements cardiaques provenant d'un jeu de données célèbres dans le domaine de la classification des battements cardiaques, le jeu de données sur l'arythmie du MIT-BIH.\n",
    "\n",
    "Les signaux correspondent à des formes d'électrocardiogramme (ECG) de battements cardiaques pour le cas normal et les cas affectés par différentes arythmies et infarctus du myocarde. Ces signaux sont prétraités et segmentés, chaque segment correspondant à un battement cardiaque.\n",
    "\n",
    "<img src=\"./DataECG.png\" width=\"800\" height=\"600\">\n",
    "\n",
    "On distingue 5 battements cardiaques différents : Battements normaux', 'Battements inconnus', 'Battements ectopiques ventriculaires', 'Battements ectopiques supraventriculaires' et 'Battements de fusion'.\n",
    "\n",
    "De ces signaux, on extrait des caractéristiques par la librairie TSFEL - *Time Series Features Extraction Library* (https://tsfel.readthedocs.io/en/latest/index.html)\n",
    "\n",
    "Les 156 caractéristiques extraites sont divisées selon les domaines :\n",
    "- temporel avec 31 caractéristiques comme l'entropie, Max, Min, Absolute Energy ...\n",
    "- statistique avec 14 caractéristiques comme écart moyen absolu, écart médian, variance, Kurtosis...\n",
    "- spectral  avec 111 caractéristiques comme les coefficients FFT par bande de fréquence, ondelettes...\n",
    "\n",
    "Lien vers le papier expliquant TSFEL : https://www.sciencedirect.com/science/article/pii/S2352711020300017"
   ]
  },
  {
   "cell_type": "code",
   "execution_count": 1,
   "id": "17ec2c7e",
   "metadata": {
    "id": "17ec2c7e"
   },
   "outputs": [],
   "source": [
    "# Librairies utiles\n",
    "import numpy as np\n",
    "import sklearn\n",
    "import pandas as pd\n",
    "import seaborn as sns\n",
    "import matplotlib.pyplot as plt"
   ]
  },
  {
   "cell_type": "markdown",
   "id": "9fe2730e",
   "metadata": {
    "id": "9fe2730e"
   },
   "source": [
    "# Chargement des données d'apprentissage et de test"
   ]
  },
  {
   "cell_type": "code",
   "execution_count": 12,
   "id": "6e64b5e9",
   "metadata": {
    "colab": {
     "base_uri": "https://localhost:8080/"
    },
    "id": "6e64b5e9",
    "outputId": "54d039f7-ec66-433f-bf92-478d5c2a8694"
   },
   "outputs": [
    {
     "name": "stdout",
     "output_type": "stream",
     "text": [
      "Taille du dataset ECG: (5000, 188)\n",
      "Taille du dataset après extraction de features : (5000, 156) (5000,)\n",
      "Taille de la base d apprentissage ECG : (4000, 188) Taille du dataset de test ECG : (1000, 188)\n",
      "Taille de la base d apprentissage Features : (4000, 156) Taille du dataset de test Features : (4000, 156)\n"
     ]
    }
   ],
   "source": [
    "# Chargement des données brutes \n",
    "DataECGFull=np.load('./DataECG.npy')\n",
    "print('Taille du dataset ECG:', DataECGFull.shape)\n",
    "\n",
    "# Après extraction des features\n",
    "# Chargement des données d'apprentissage\n",
    "DataFeature=np.load('./DataFeature.npy')\n",
    "Label=np.load('./Label.npy')\n",
    "print('Taille du dataset après extraction de features :', DataFeature.shape, Label.shape)\n",
    "\n",
    "\n",
    "# Séparation en ensemble d'apprentissage et de test \n",
    "from sklearn.model_selection import train_test_split\n",
    "\n",
    "DataECGApp, DataECGTest, Label_train, Label_test = train_test_split(DataECGFull, Label, test_size=0.2, random_state=42)\n",
    "DataFeatureApp, DataFeatureTest, LabelF_train, LabelF_test = train_test_split(DataFeature, Label, test_size=0.2, random_state=42)\n",
    "\n",
    "print('Taille de la base d apprentissage ECG :', DataECGApp.shape, 'Taille du dataset de test ECG :', DataECGTest.shape)\n",
    "print('Taille de la base d apprentissage Features :', DataFeatureApp.shape, 'Taille du dataset de test Features :', DataFeatureApp.shape)\n"
   ]
  },
  {
   "cell_type": "markdown",
   "id": "48df15b1",
   "metadata": {
    "id": "48df15b1"
   },
   "source": [
    "# Chargement des variables issues *TSFEL*"
   ]
  },
  {
   "cell_type": "code",
   "execution_count": 6,
   "id": "97c9da7d",
   "metadata": {
    "colab": {
     "base_uri": "https://localhost:8080/"
    },
    "id": "97c9da7d",
    "outputId": "6cb6fc81-2fec-4615-d480-387b9814698e"
   },
   "outputs": [
    {
     "name": "stdout",
     "output_type": "stream",
     "text": [
      "Nombre de variables statistiques : (31,)\n",
      "Nombre de variables temporelles : (14,)\n",
      "Nombre de variables spectrales : (111,)\n"
     ]
    }
   ],
   "source": [
    "ListeVariablesStat=np.load('./ListeVariableStat.npy',allow_pickle=True)\n",
    "print('Nombre de variables statistiques :',ListeVariablesStat.shape)\n",
    "#print('Liste Variables Statistiques :', ListeVariablesStat)\n",
    "\n",
    "ListeVariablesTemps=np.load('./ListeVariableTemps.npy',allow_pickle=True)\n",
    "print('Nombre de variables temporelles :',ListeVariablesTemps.shape)\n",
    "#print('Liste Variables Temporelles :',ListeVariablesTemps)\n",
    "\n",
    "ListeVariablesSpectral=np.load('./ListeVariableSpectral.npy',allow_pickle=True)\n",
    "print('Nombre de variables spectrales :',ListeVariablesSpectral.shape)\n",
    "#print('Liste Variables Spectrales :',ListeVariablesSpectral)"
   ]
  },
  {
   "cell_type": "markdown",
   "id": "20026ed1",
   "metadata": {
    "id": "20026ed1"
   },
   "source": [
    "### Fonctions pour réaliser une table de correspondance entre le label des approches non supervisées et le label réel"
   ]
  },
  {
   "cell_type": "code",
   "execution_count": 13,
   "id": "17e21e75",
   "metadata": {
    "id": "17e21e75"
   },
   "outputs": [],
   "source": [
    "def retrieve_info(cluster_labels,y_train):\n",
    " #Associe l'étiquette la plus probable à chaque groupe dans le modèle KMeans.\n",
    " #Résultats : dictionnaire des clusters associés à chaque étiquette.\n",
    "\n",
    "# Initialisation\n",
    "  reference_labels = np.zeros((len(np.unique(cluster_labels)),1))\n",
    "# Loop pour chaque label\n",
    "  for i in range(len(np.unique(cluster_labels))):\n",
    "    index = np.where(cluster_labels == i,1,0)\n",
    "    num = np.bincount(y_train[index==1]).argmax()\n",
    "    reference_labels[i] = num\n",
    "  return reference_labels\n",
    "\n",
    "def correspondance(y_pred_kmeans,y_train):\n",
    "  # Correspondance entre la partition et les classes de la vérité terrain\n",
    "  reference_labels = retrieve_info(y_pred_kmeans,y_train)\n",
    "  number_labels = np.zeros(len(y_pred_kmeans))\n",
    "  for i in range(len(y_pred_kmeans)):\n",
    "    number_labels[i] = reference_labels[y_pred_kmeans[i]]\n",
    "  return number_labels\n"
   ]
  },
  {
   "cell_type": "markdown",
   "id": "6068afcd-9f01-417a-96b9-61d5dd5230e9",
   "metadata": {},
   "source": [
    "# Partie I : Implémentation de l'algorithme de programmation dynamique (DTW)\n",
    "\n",
    "1. Ecrivez une fonction en python DTW qui implémente le calcul et l'affichage de la matrice des coûts définie en TD. \n",
    "\n"
   ]
  },
  {
   "cell_type": "code",
   "execution_count": 5,
   "id": "d42e698d-b4a8-4347-9a05-bb2fdd063d49",
   "metadata": {},
   "outputs": [],
   "source": [
    "from math import *\n",
    "import numpy as np\n",
    "import sys"
   ]
  },
  {
   "cell_type": "code",
   "execution_count": 8,
   "id": "b11cdc41-09be-4f45-9d7e-15657484876a",
   "metadata": {},
   "outputs": [],
   "source": [
    "def DTW():\n",
    "    # à coder\n",
    "    return 0"
   ]
  },
  {
   "cell_type": "code",
   "execution_count": 7,
   "id": "5efb2eb5-133a-47bb-9303-8255646fdd61",
   "metadata": {},
   "outputs": [
    {
     "data": {
      "text/plain": [
       "(0.5714285714285714, [(3, 2), (2, 2), (1, 2), (1, 1), (0, 0)])"
      ]
     },
     "execution_count": 7,
     "metadata": {},
     "output_type": "execute_result"
    }
   ],
   "source": []
  },
  {
   "cell_type": "markdown",
   "id": "f50ff141-2a19-4456-b038-6d7aa8bd77fc",
   "metadata": {},
   "source": [
    "## Système de reconnaissance de battements cardiaques par DTW\n",
    "\n",
    "\n",
    "\n",
    "**Système de reconnaissance :**\n",
    "Pour chaque profil temporel test :\n",
    "\n",
    "a) Calculer pour chaque classe, le score de la DTW entre le profil temporel test et les profils temporels de la classe \n",
    "\n",
    "b) Déterminer la classe d'appartenance par minimum du score sur toutes les classes\n"
   ]
  },
  {
   "cell_type": "code",
   "execution_count": null,
   "id": "2ee29828-93e9-4ef3-af05-fc828f9a1b7d",
   "metadata": {},
   "outputs": [],
   "source": [
    "# Système de reconnaissance à partir de la DTW\n",
    "PartitionDTW=np.zeros((TAILLE_TEST*N_CLASSES,2))\n",
    "\n",
    "## à coder"
   ]
  },
  {
   "cell_type": "markdown",
   "id": "e92d4bb1-860d-42fb-bdfd-43b41a9d11e9",
   "metadata": {},
   "source": [
    "**Evaluation :** A partir de la partition de l'ensemble test obtenue après la DTW, calculer la matrice de confusion qui recense le nombre de données bien classés et mal classés."
   ]
  },
  {
   "cell_type": "code",
   "execution_count": null,
   "id": "caf7fc71-c884-446b-bdc9-4acdb8fbeeaa",
   "metadata": {},
   "outputs": [],
   "source": [
    "# Evaluation des résultats par matrices de confusion \n",
    "from sklearn.metrics import accuracy_score\n",
    "from sklearn.metrics import confusion_matrix\n"
   ]
  },
  {
   "cell_type": "code",
   "execution_count": null,
   "id": "c823e9cd-39ac-4c25-b395-22689bb9fd4f",
   "metadata": {},
   "outputs": [],
   "source": [
    "print('Matrice de confusion par DTW')\n",
    "cm=confusion_matrix(PartitionDTW[:,0],PartitionDTW[:,1])\n",
    "sns.heatmap(data=cm,fmt='.0f',xticklabels=np.unique(classe[:N_CLASSES]),yticklabels=np.unique(classe[:N_CLASSES]),annot=True)\n",
    "\n",
    "# score de performance\n",
    "print('Accuracy sur base de test :',accuracy_score(PartitionDTW[:,0],PartitionDTW[:,1]))"
   ]
  },
  {
   "cell_type": "markdown",
   "id": "c32be7d8",
   "metadata": {
    "id": "c32be7d8"
   },
   "source": [
    "# Partie II : Classification des battements cardiaques sur les features sans prétraitement\n",
    "\n",
    "Réaliser une classification des battements cardiaques par une méthode d'apprentissage supervisé et une méthode d'apprentissage non supervisé de votre choix en utilisant la librairie *scikit-learn*.\n",
    "\n",
    "Pour chaque résultat obtenu, calculer la matrice de confusion et interpréter les résultats.\n"
   ]
  },
  {
   "cell_type": "markdown",
   "id": "0221ee5b",
   "metadata": {
    "id": "0221ee5b"
   },
   "source": [
    "## Méthodes supervisées  :\n",
    "indiquer quelles sont les 2 méthodes supervisées de votre choix et calculer la matrice de confusion associée."
   ]
  },
  {
   "cell_type": "code",
   "execution_count": null,
   "id": "46cb8b1d",
   "metadata": {
    "id": "46cb8b1d"
   },
   "outputs": [],
   "source": [
    "from sklearn.metrics import confusion_matrix\n",
    "\n",
    "# Calcul de la matrice de confusion\n",
    "\n",
    "#confusion_matrix(y_true, y_pred)"
   ]
  },
  {
   "cell_type": "markdown",
   "id": "b2164fad",
   "metadata": {
    "id": "b2164fad"
   },
   "source": [
    "## Méthodes non supervisées\n",
    "\n",
    "Indiquer quelles sont les 2 méthodes non supervisées de votre choix et calculer la matrice de confusion associée."
   ]
  },
  {
   "cell_type": "code",
   "execution_count": null,
   "id": "fd913740",
   "metadata": {
    "id": "fd913740"
   },
   "outputs": [],
   "source": []
  },
  {
   "cell_type": "code",
   "execution_count": null,
   "id": "335f1e5a",
   "metadata": {
    "id": "335f1e5a"
   },
   "outputs": [],
   "source": []
  },
  {
   "cell_type": "markdown",
   "id": "ce258562",
   "metadata": {
    "id": "ce258562"
   },
   "source": [
    "# Partie III : classification des battements cardiaques sur les features avec prétraitement par ACP\n",
    "\n",
    "## Méthode supervisée avec réduction de dimension par ACP sur l'ensemble d'apprentissage\n",
    "Réaliser une ACP sur l'ensemble d'apprentissage pour réduire la dimension, visualiser les données\n",
    "puis projeter les données de l'ensemble de test dans la base de l'ACP.\n",
    "\n",
    "Indiquer quelles sont les 2 méthodes supervisées de votre choix et calculer la matrice de confusion associée (confusion_matrix) et le score de performance (accuracy_score)"
   ]
  },
  {
   "cell_type": "code",
   "execution_count": null,
   "id": "e4a67a8d",
   "metadata": {
    "id": "e4a67a8d"
   },
   "outputs": [],
   "source": [
    "from sklearn.decomposition import PCA"
   ]
  },
  {
   "cell_type": "code",
   "execution_count": null,
   "id": "dd0f9780",
   "metadata": {
    "id": "dd0f9780"
   },
   "outputs": [],
   "source": []
  },
  {
   "cell_type": "code",
   "execution_count": null,
   "id": "9782179d",
   "metadata": {
    "id": "9782179d"
   },
   "outputs": [],
   "source": [
    "# Calcul de la matrice de confusion\n"
   ]
  },
  {
   "cell_type": "markdown",
   "id": "f6281618",
   "metadata": {
    "id": "f6281618"
   },
   "source": [
    "## Méthode non supervisée avec réduction de dimension par ACP sur l'ensemble des données\n",
    "\n",
    "Réaliser une ACP sur l'ensemble des données et indiquer quelles sont les méthodes non supervisées de votre choix et calculer la matrice de confusion associée (confusion_matrix) et le score de performance (accuracy_score)"
   ]
  },
  {
   "cell_type": "code",
   "execution_count": null,
   "id": "41f9e75d",
   "metadata": {
    "id": "41f9e75d"
   },
   "outputs": [],
   "source": []
  },
  {
   "cell_type": "code",
   "execution_count": null,
   "id": "cef4ea07",
   "metadata": {
    "id": "cef4ea07"
   },
   "outputs": [],
   "source": [
    "# Calcul de la matrice de confusion\n"
   ]
  },
  {
   "cell_type": "code",
   "execution_count": null,
   "id": "c608da4c",
   "metadata": {
    "id": "c608da4c"
   },
   "outputs": [],
   "source": []
  },
  {
   "cell_type": "markdown",
   "id": "8013df17",
   "metadata": {
    "id": "8013df17"
   },
   "source": [
    "\n",
    "# Réaliser votre étude :\n",
    "\n",
    "- Etudier les meilleurs paramètres pour les méthodes supervisées et non supervisées que vous avez choisies.\n",
    "- Faire une étude sur les paramètres issus de TSFEL en séparant par exemple les différentes modalités (statistiques,temporelles et spectrales) ou en étudiant leur correlation et essayer de réaliser des prétraitements.\n",
    "- Optimiser la réduction de dimensions par ACP\n"
   ]
  },
  {
   "cell_type": "code",
   "execution_count": null,
   "id": "d5bd2f8d",
   "metadata": {
    "id": "d5bd2f8d"
   },
   "outputs": [],
   "source": []
  }
 ],
 "metadata": {
  "colab": {
   "provenance": []
  },
  "kernelspec": {
   "display_name": "Python 3 (ipykernel)",
   "language": "python",
   "name": "python3"
  },
  "language_info": {
   "codemirror_mode": {
    "name": "ipython",
    "version": 3
   },
   "file_extension": ".py",
   "mimetype": "text/x-python",
   "name": "python",
   "nbconvert_exporter": "python",
   "pygments_lexer": "ipython3",
   "version": "3.12.7"
  }
 },
 "nbformat": 4,
 "nbformat_minor": 5
}
