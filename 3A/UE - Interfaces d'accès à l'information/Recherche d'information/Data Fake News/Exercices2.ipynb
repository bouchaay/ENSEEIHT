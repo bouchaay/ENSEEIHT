{
 "cells": [
  {
   "cell_type": "markdown",
   "id": "df252c16-1ce8-4bd4-a373-6d6eb1e5f653",
   "metadata": {},
   "source": [
    "## Execice 2 : Utilisation de transformers pour les deux datasets"
   ]
  },
  {
   "cell_type": "markdown",
   "id": "9a205a5c-bcfe-4492-8d8b-b725e7c416bd",
   "metadata": {},
   "source": [
    "### 2.1 :  Utilisation d'un transformer prêt à l'emploi"
   ]
  },
  {
   "cell_type": "code",
   "execution_count": null,
   "id": "46658c82-2760-4805-a710-01cedd8c8236",
   "metadata": {},
   "outputs": [],
   "source": []
  },
  {
   "cell_type": "code",
   "execution_count": null,
   "id": "ffc66eb7-88bf-4355-8ae8-f1b293696933",
   "metadata": {},
   "outputs": [],
   "source": []
  },
  {
   "cell_type": "markdown",
   "id": "2b423099-c5fc-436b-9a66-ec54e7d3322a",
   "metadata": {},
   "source": [
    "### 2.2 Finetuning d'un modèle de transformers"
   ]
  },
  {
   "cell_type": "code",
   "execution_count": null,
   "id": "05de1492-16a9-4312-8335-f9e771e8a399",
   "metadata": {},
   "outputs": [],
   "source": []
  }
 ],
 "metadata": {
  "kernelspec": {
   "display_name": "Python 3 (ipykernel)",
   "language": "python",
   "name": "python3"
  },
  "language_info": {
   "codemirror_mode": {
    "name": "ipython",
    "version": 3
   },
   "file_extension": ".py",
   "mimetype": "text/x-python",
   "name": "python",
   "nbconvert_exporter": "python",
   "pygments_lexer": "ipython3",
   "version": "3.11.0"
  }
 },
 "nbformat": 4,
 "nbformat_minor": 5
}
